{
 "cells": [
  {
   "cell_type": "code",
   "execution_count": 1,
   "metadata": {
    "collapsed": false
   },
   "outputs": [
    {
     "data": {
      "text/plain": [
       "['year,month,date_of_month,day_of_week,births',\n",
       " '1994,1,1,6,8096',\n",
       " '1994,1,2,7,7772',\n",
       " '1994,1,3,1,10142',\n",
       " '1994,1,4,2,11248',\n",
       " '1994,1,5,3,11053',\n",
       " '1994,1,6,4,11406',\n",
       " '1994,1,7,5,11251',\n",
       " '1994,1,8,6,8653',\n",
       " '1994,1,9,7,7910']"
      ]
     },
     "execution_count": 1,
     "metadata": {},
     "output_type": "execute_result"
    }
   ],
   "source": [
    "f = open(\"US_births_1994-2003_CDC_NCHS.csv\", \"r\")\n",
    "d =f.read()\n",
    "data =d.split(\"\\n\")\n",
    "data[:10]"
   ]
  },
  {
   "cell_type": "markdown",
   "metadata": {},
   "source": [
    "Open CSV, Read CSV into a String, split that string on the newline to create a list, with comma-sep columns"
   ]
  },
  {
   "cell_type": "code",
   "execution_count": 2,
   "metadata": {
    "collapsed": true
   },
   "outputs": [],
   "source": [
    "def read_csv(file_name):\n",
    "    f=open(file_name, \"r\")\n",
    "    d=f.read()\n",
    "    data=d.split(\"\\n\")\n",
    "    string_list=data[1:]\n",
    "    final_list =[]\n",
    "    for row in string_list:\n",
    "        int_fields=[]\n",
    "        string_fields=row.split(\",\")\n",
    "        for value in string_fields:\n",
    "            int_fields.append(int(value))\n",
    "            final_list.append(int_fields)\n",
    "    return final_list"
   ]
  },
  {
   "cell_type": "markdown",
   "metadata": {},
   "source": [
    "by hand implementation of pandas read_csv()"
   ]
  },
  {
   "cell_type": "code",
   "execution_count": 3,
   "metadata": {
    "collapsed": false
   },
   "outputs": [
    {
     "name": "stdout",
     "output_type": "stream",
     "text": [
      "[[1994, 1, 1, 6, 8096], [1994, 1, 1, 6, 8096], [1994, 1, 1, 6, 8096], [1994, 1, 1, 6, 8096], [1994, 1, 1, 6, 8096], [1994, 1, 2, 7, 7772], [1994, 1, 2, 7, 7772], [1994, 1, 2, 7, 7772], [1994, 1, 2, 7, 7772], [1994, 1, 2, 7, 7772]]\n"
     ]
    }
   ],
   "source": [
    "cdc_list=read_csv(\"US_births_1994-2003_CDC_NCHS.csv\")\n",
    "print(cdc_list[0:10])\n"
   ]
  },
  {
   "cell_type": "code",
   "execution_count": 4,
   "metadata": {
    "collapsed": true
   },
   "outputs": [],
   "source": [
    "def month_births(list_of_lists):\n",
    "    births_per_month ={}\n",
    "    for item in list_of_lists:\n",
    "        month=item[1]\n",
    "        births=item[-1]\n",
    "        if month in births_per_month:\n",
    "            births_per_month[month]+=births\n",
    "        else:\n",
    "            births_per_month[month]=births\n",
    "    return births_per_month"
   ]
  },
  {
   "cell_type": "markdown",
   "metadata": {},
   "source": [
    "Returns births per month of a list"
   ]
  },
  {
   "cell_type": "code",
   "execution_count": 5,
   "metadata": {
    "collapsed": false
   },
   "outputs": [
    {
     "name": "stdout",
     "output_type": "stream",
     "text": [
      "{1: 16162585, 2: 15090700, 3: 16610345, 4: 15926570, 5: 16754535, 6: 16482650, 7: 17493915, 8: 17629290, 9: 17198490, 10: 16894070, 11: 15858235, 12: 16509300}\n"
     ]
    }
   ],
   "source": [
    "cdc_month_births=month_births(cdc_list)\n",
    "print(cdc_month_births)"
   ]
  },
  {
   "cell_type": "code",
   "execution_count": 6,
   "metadata": {
    "collapsed": true
   },
   "outputs": [],
   "source": [
    "def dow_births(list_of_lists):\n",
    "    births_per_day ={}\n",
    "    for item in list_of_lists:\n",
    "        day=item[-2]\n",
    "        births=item[-1]\n",
    "        if day in births_per_day:\n",
    "            births_per_day[day]+=births\n",
    "        else:\n",
    "            births_per_day[day]=births\n",
    "    return births_per_day"
   ]
  },
  {
   "cell_type": "code",
   "execution_count": 7,
   "metadata": {
    "collapsed": false
   },
   "outputs": [
    {
     "data": {
      "text/plain": [
       "{1: 28945830,\n",
       " 2: 32230980,\n",
       " 3: 31614275,\n",
       " 4: 31442145,\n",
       " 5: 31168285,\n",
       " 6: 22810555,\n",
       " 7: 20398615}"
      ]
     },
     "execution_count": 7,
     "metadata": {},
     "output_type": "execute_result"
    }
   ],
   "source": [
    "cdc_day_births=dow_births(cdc_list)\n",
    "cdc_day_births"
   ]
  },
  {
   "cell_type": "code",
   "execution_count": null,
   "metadata": {
    "collapsed": true
   },
   "outputs": [],
   "source": [
    "def calc_counts(list_of_lists, column):\n",
    "    births_per_time ={}\n",
    "    for item in list_of_lists:\n",
    "        column=item[column]\n",
    "        births=item[-1]\n",
    "        if time in births_per_time:\n",
    "            births_per_time[time]+=births\n",
    "        else:\n",
    "            births_per_time[time]=births\n",
    "    return births_per_time"
   ]
  }
 ],
 "metadata": {
  "anaconda-cloud": {},
  "kernelspec": {
   "display_name": "Python 3",
   "language": "python",
   "name": "python3"
  },
  "language_info": {
   "codemirror_mode": {
    "name": "ipython",
    "version": 3
   },
   "file_extension": ".py",
   "mimetype": "text/x-python",
   "name": "python",
   "nbconvert_exporter": "python",
   "pygments_lexer": "ipython3",
   "version": "3.4.3"
  }
 },
 "nbformat": 4,
 "nbformat_minor": 1
}
