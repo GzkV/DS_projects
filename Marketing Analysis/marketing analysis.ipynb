{
 "cells": [
  {
   "cell_type": "markdown",
   "metadata": {},
   "source": [
    "# Marketing Analysis"
   ]
  },
  {
   "cell_type": "markdown",
   "metadata": {},
   "source": [
    "### Analyze market viability for elearning case study"
   ]
  },
  {
   "cell_type": "markdown",
   "metadata": {},
   "source": [
    "## Set Up"
   ]
  },
  {
   "cell_type": "code",
   "execution_count": 13,
   "metadata": {
    "collapsed": false
   },
   "outputs": [
    {
     "name": "stderr",
     "output_type": "stream",
     "text": [
      "/dataquest/system/env/python3/lib/python3.4/site-packages/IPython/core/interactiveshell.py:2723: DtypeWarning: Columns (17,62) have mixed types. Specify dtype option on import or set low_memory=False.\n",
      "  interactivity=interactivity, compiler=compiler, result=result)\n"
     ]
    },
    {
     "data": {
      "text/html": [
       "<div>\n",
       "<style scoped>\n",
       "    .dataframe tbody tr th:only-of-type {\n",
       "        vertical-align: middle;\n",
       "    }\n",
       "\n",
       "    .dataframe tbody tr th {\n",
       "        vertical-align: top;\n",
       "    }\n",
       "\n",
       "    .dataframe thead th {\n",
       "        text-align: right;\n",
       "    }\n",
       "</style>\n",
       "<table border=\"1\" class=\"dataframe\">\n",
       "  <thead>\n",
       "    <tr style=\"text-align: right;\">\n",
       "      <th></th>\n",
       "      <th>Age</th>\n",
       "      <th>AttendedBootcamp</th>\n",
       "      <th>BootcampFinish</th>\n",
       "      <th>BootcampLoanYesNo</th>\n",
       "      <th>BootcampName</th>\n",
       "      <th>BootcampRecommend</th>\n",
       "      <th>ChildrenNumber</th>\n",
       "      <th>CityPopulation</th>\n",
       "      <th>CodeEventConferences</th>\n",
       "      <th>CodeEventDjangoGirls</th>\n",
       "      <th>...</th>\n",
       "      <th>YouTubeFCC</th>\n",
       "      <th>YouTubeFunFunFunction</th>\n",
       "      <th>YouTubeGoogleDev</th>\n",
       "      <th>YouTubeLearnCode</th>\n",
       "      <th>YouTubeLevelUpTuts</th>\n",
       "      <th>YouTubeMIT</th>\n",
       "      <th>YouTubeMozillaHacks</th>\n",
       "      <th>YouTubeOther</th>\n",
       "      <th>YouTubeSimplilearn</th>\n",
       "      <th>YouTubeTheNewBoston</th>\n",
       "    </tr>\n",
       "  </thead>\n",
       "  <tbody>\n",
       "    <tr>\n",
       "      <th>0</th>\n",
       "      <td>27.0</td>\n",
       "      <td>0.0</td>\n",
       "      <td>NaN</td>\n",
       "      <td>NaN</td>\n",
       "      <td>NaN</td>\n",
       "      <td>NaN</td>\n",
       "      <td>NaN</td>\n",
       "      <td>more than 1 million</td>\n",
       "      <td>NaN</td>\n",
       "      <td>NaN</td>\n",
       "      <td>...</td>\n",
       "      <td>NaN</td>\n",
       "      <td>NaN</td>\n",
       "      <td>NaN</td>\n",
       "      <td>NaN</td>\n",
       "      <td>NaN</td>\n",
       "      <td>NaN</td>\n",
       "      <td>NaN</td>\n",
       "      <td>NaN</td>\n",
       "      <td>NaN</td>\n",
       "      <td>NaN</td>\n",
       "    </tr>\n",
       "    <tr>\n",
       "      <th>1</th>\n",
       "      <td>34.0</td>\n",
       "      <td>0.0</td>\n",
       "      <td>NaN</td>\n",
       "      <td>NaN</td>\n",
       "      <td>NaN</td>\n",
       "      <td>NaN</td>\n",
       "      <td>NaN</td>\n",
       "      <td>less than 100,000</td>\n",
       "      <td>NaN</td>\n",
       "      <td>NaN</td>\n",
       "      <td>...</td>\n",
       "      <td>1.0</td>\n",
       "      <td>NaN</td>\n",
       "      <td>NaN</td>\n",
       "      <td>NaN</td>\n",
       "      <td>NaN</td>\n",
       "      <td>NaN</td>\n",
       "      <td>NaN</td>\n",
       "      <td>NaN</td>\n",
       "      <td>NaN</td>\n",
       "      <td>NaN</td>\n",
       "    </tr>\n",
       "    <tr>\n",
       "      <th>2</th>\n",
       "      <td>21.0</td>\n",
       "      <td>0.0</td>\n",
       "      <td>NaN</td>\n",
       "      <td>NaN</td>\n",
       "      <td>NaN</td>\n",
       "      <td>NaN</td>\n",
       "      <td>NaN</td>\n",
       "      <td>more than 1 million</td>\n",
       "      <td>NaN</td>\n",
       "      <td>NaN</td>\n",
       "      <td>...</td>\n",
       "      <td>NaN</td>\n",
       "      <td>NaN</td>\n",
       "      <td>NaN</td>\n",
       "      <td>1.0</td>\n",
       "      <td>1.0</td>\n",
       "      <td>NaN</td>\n",
       "      <td>NaN</td>\n",
       "      <td>NaN</td>\n",
       "      <td>NaN</td>\n",
       "      <td>NaN</td>\n",
       "    </tr>\n",
       "    <tr>\n",
       "      <th>3</th>\n",
       "      <td>26.0</td>\n",
       "      <td>0.0</td>\n",
       "      <td>NaN</td>\n",
       "      <td>NaN</td>\n",
       "      <td>NaN</td>\n",
       "      <td>NaN</td>\n",
       "      <td>NaN</td>\n",
       "      <td>between 100,000 and 1 million</td>\n",
       "      <td>NaN</td>\n",
       "      <td>NaN</td>\n",
       "      <td>...</td>\n",
       "      <td>1.0</td>\n",
       "      <td>1.0</td>\n",
       "      <td>NaN</td>\n",
       "      <td>NaN</td>\n",
       "      <td>1.0</td>\n",
       "      <td>NaN</td>\n",
       "      <td>NaN</td>\n",
       "      <td>NaN</td>\n",
       "      <td>NaN</td>\n",
       "      <td>NaN</td>\n",
       "    </tr>\n",
       "    <tr>\n",
       "      <th>4</th>\n",
       "      <td>20.0</td>\n",
       "      <td>0.0</td>\n",
       "      <td>NaN</td>\n",
       "      <td>NaN</td>\n",
       "      <td>NaN</td>\n",
       "      <td>NaN</td>\n",
       "      <td>NaN</td>\n",
       "      <td>between 100,000 and 1 million</td>\n",
       "      <td>NaN</td>\n",
       "      <td>NaN</td>\n",
       "      <td>...</td>\n",
       "      <td>NaN</td>\n",
       "      <td>NaN</td>\n",
       "      <td>NaN</td>\n",
       "      <td>NaN</td>\n",
       "      <td>NaN</td>\n",
       "      <td>NaN</td>\n",
       "      <td>NaN</td>\n",
       "      <td>NaN</td>\n",
       "      <td>NaN</td>\n",
       "      <td>NaN</td>\n",
       "    </tr>\n",
       "  </tbody>\n",
       "</table>\n",
       "<p>5 rows × 136 columns</p>\n",
       "</div>"
      ],
      "text/plain": [
       "    Age  AttendedBootcamp  BootcampFinish  BootcampLoanYesNo BootcampName  \\\n",
       "0  27.0               0.0             NaN                NaN          NaN   \n",
       "1  34.0               0.0             NaN                NaN          NaN   \n",
       "2  21.0               0.0             NaN                NaN          NaN   \n",
       "3  26.0               0.0             NaN                NaN          NaN   \n",
       "4  20.0               0.0             NaN                NaN          NaN   \n",
       "\n",
       "   BootcampRecommend  ChildrenNumber                 CityPopulation  \\\n",
       "0                NaN             NaN            more than 1 million   \n",
       "1                NaN             NaN              less than 100,000   \n",
       "2                NaN             NaN            more than 1 million   \n",
       "3                NaN             NaN  between 100,000 and 1 million   \n",
       "4                NaN             NaN  between 100,000 and 1 million   \n",
       "\n",
       "   CodeEventConferences  CodeEventDjangoGirls         ...           \\\n",
       "0                   NaN                   NaN         ...            \n",
       "1                   NaN                   NaN         ...            \n",
       "2                   NaN                   NaN         ...            \n",
       "3                   NaN                   NaN         ...            \n",
       "4                   NaN                   NaN         ...            \n",
       "\n",
       "   YouTubeFCC  YouTubeFunFunFunction  YouTubeGoogleDev  YouTubeLearnCode  \\\n",
       "0         NaN                    NaN               NaN               NaN   \n",
       "1         1.0                    NaN               NaN               NaN   \n",
       "2         NaN                    NaN               NaN               1.0   \n",
       "3         1.0                    1.0               NaN               NaN   \n",
       "4         NaN                    NaN               NaN               NaN   \n",
       "\n",
       "   YouTubeLevelUpTuts  YouTubeMIT  YouTubeMozillaHacks YouTubeOther  \\\n",
       "0                 NaN         NaN                  NaN          NaN   \n",
       "1                 NaN         NaN                  NaN          NaN   \n",
       "2                 1.0         NaN                  NaN          NaN   \n",
       "3                 1.0         NaN                  NaN          NaN   \n",
       "4                 NaN         NaN                  NaN          NaN   \n",
       "\n",
       "   YouTubeSimplilearn  YouTubeTheNewBoston  \n",
       "0                 NaN                  NaN  \n",
       "1                 NaN                  NaN  \n",
       "2                 NaN                  NaN  \n",
       "3                 NaN                  NaN  \n",
       "4                 NaN                  NaN  \n",
       "\n",
       "[5 rows x 136 columns]"
      ]
     },
     "execution_count": 13,
     "metadata": {},
     "output_type": "execute_result"
    }
   ],
   "source": [
    "import numpy as np\n",
    "import pandas as pd\n",
    "import matplotlib.pyplot as plt\n",
    "%matplotlib inline\n",
    "df=pd.read_csv('2017-fCC-New-Coders-Survey-Data.csv')\n",
    "df.head()"
   ]
  },
  {
   "cell_type": "markdown",
   "metadata": {},
   "source": [
    "For the purposes of this analysis, I will utilize Free Code Camp's latest published New Coder's Survey results, as it is a freely available and sizeable dataset containing demographic and interest information that is a suitable proxy audience for our coding elearning product (new coders and people learning to code) without the time or money expenses of running a custom survey for this project.\n",
    "\n",
    "This survey data is freely made available by FreeCodeCamp via GitHub"
   ]
  },
  {
   "cell_type": "markdown",
   "metadata": {},
   "source": [
    "## Exploratory Analysis"
   ]
  },
  {
   "cell_type": "code",
   "execution_count": 14,
   "metadata": {
    "collapsed": false
   },
   "outputs": [
    {
     "data": {
      "text/plain": [
       "Full-Stack Web Developer                                                                                                                                                                                11.770595\n",
       "  Front-End Web Developer                                                                                                                                                                                6.435927\n",
       "  Data Scientist                                                                                                                                                                                         2.173913\n",
       "Back-End Web Developer                                                                                                                                                                                   2.030892\n",
       "  Mobile Developer                                                                                                                                                                                       1.673341\n",
       "Game Developer                                                                                                                                                                                           1.630435\n",
       "Information Security                                                                                                                                                                                     1.315789\n",
       "Full-Stack Web Developer,   Front-End Web Developer                                                                                                                                                      0.915332\n",
       "  Front-End Web Developer, Full-Stack Web Developer                                                                                                                                                      0.800915\n",
       "  Product Manager                                                                                                                                                                                        0.786613\n",
       "Data Engineer                                                                                                                                                                                            0.758009\n",
       "  User Experience Designer                                                                                                                                                                               0.743707\n",
       "  User Experience Designer,   Front-End Web Developer                                                                                                                                                    0.614989\n",
       "  Front-End Web Developer, Back-End Web Developer, Full-Stack Web Developer                                                                                                                              0.557780\n",
       "Back-End Web Developer,   Front-End Web Developer, Full-Stack Web Developer                                                                                                                              0.514874\n",
       "Back-End Web Developer, Full-Stack Web Developer,   Front-End Web Developer                                                                                                                              0.514874\n",
       "  DevOps / SysAdmin                                                                                                                                                                                      0.514874\n",
       "Full-Stack Web Developer,   Front-End Web Developer, Back-End Web Developer                                                                                                                              0.443364\n",
       "  Front-End Web Developer, Full-Stack Web Developer, Back-End Web Developer                                                                                                                              0.429062\n",
       "  Front-End Web Developer,   User Experience Designer                                                                                                                                                    0.414760\n",
       "Full-Stack Web Developer,   Mobile Developer                                                                                                                                                             0.414760\n",
       "Back-End Web Developer, Full-Stack Web Developer                                                                                                                                                         0.386156\n",
       "Full-Stack Web Developer, Back-End Web Developer                                                                                                                                                         0.371854\n",
       "Back-End Web Developer,   Front-End Web Developer                                                                                                                                                        0.286041\n",
       "Data Engineer,   Data Scientist                                                                                                                                                                          0.271739\n",
       "Full-Stack Web Developer, Back-End Web Developer,   Front-End Web Developer                                                                                                                              0.271739\n",
       "  Front-End Web Developer,   Mobile Developer                                                                                                                                                            0.257437\n",
       "Full-Stack Web Developer,   Data Scientist                                                                                                                                                               0.243135\n",
       "  Mobile Developer, Game Developer                                                                                                                                                                       0.228833\n",
       "  Data Scientist, Data Engineer                                                                                                                                                                          0.228833\n",
       "                                                                                                                                                                                                          ...    \n",
       "  Mobile Developer,   Front-End Web Developer, Full-Stack Web Developer, Back-End Web Developer                                                                                                          0.014302\n",
       "  Quality Assurance Engineer,   Front-End Web Developer,   User Experience Designer, Full-Stack Web Developer, Information Security                                                                      0.014302\n",
       "  User Experience Designer,   Quality Assurance Engineer,   Front-End Web Developer, Data Engineer                                                                                                       0.014302\n",
       "  Front-End Web Developer, Game Developer,   Mobile Developer, Full-Stack Web Developer, Back-End Web Developer, Data Engineer,   Data Scientist                                                         0.014302\n",
       "  User Experience Designer, Game Developer,   Front-End Web Developer,   Mobile Developer, Data Engineer, Back-End Web Developer,   Data Scientist                                                       0.014302\n",
       "Information Security,   Quality Assurance Engineer, Data Engineer,   Product Manager,   Data Scientist                                                                                                   0.014302\n",
       "Data Engineer,   Front-End Web Developer,   Mobile Developer, Full-Stack Web Developer,   Product Manager, Information Security,   Data Scientist, Back-End Web Developer                                0.014302\n",
       "  User Experience Designer,   Front-End Web Developer,   Data Scientist, Information Security,   Mobile Developer,   DevOps / SysAdmin,   Product Manager                                                0.014302\n",
       "Full-Stack Web Developer, Game Developer, Information Security,   Quality Assurance Engineer, Data Engineer,   Data Scientist, Back-End Web Developer,   Mobile Developer,   Front-End Web Developer     0.014302\n",
       "  Mobile Developer, Information Security, Data Engineer, Back-End Web Developer, Game Developer,   Data Scientist, Full-Stack Web Developer                                                              0.014302\n",
       "Data Engineer,   Data Scientist,   DevOps / SysAdmin, Information Security, Back-End Web Developer, Full-Stack Web Developer,   Mobile Developer                                                         0.014302\n",
       "Back-End Web Developer,   Mobile Developer, Full-Stack Web Developer,   Product Manager,   Data Scientist                                                                                                0.014302\n",
       "Game Developer,   User Experience Designer,   Front-End Web Developer,   DevOps / SysAdmin, Full-Stack Web Developer                                                                                     0.014302\n",
       "Back-End Web Developer,   DevOps / SysAdmin, Data Engineer                                                                                                                                               0.014302\n",
       "  Front-End Web Developer, Full-Stack Web Developer,   User Experience Designer, Back-End Web Developer,   Product Manager                                                                               0.014302\n",
       "Data Engineer, Information Security,   DevOps / SysAdmin,   Data Scientist                                                                                                                               0.014302\n",
       "  Front-End Web Developer, Information Security, Data Engineer,   Data Scientist, Back-End Web Developer                                                                                                 0.014302\n",
       "Pharmacy tech                                                                                                                                                                                            0.014302\n",
       "Full-Stack Web Developer, Back-End Web Developer,   User Experience Designer,   Product Manager,   Mobile Developer, Information Security,   Front-End Web Developer                                     0.014302\n",
       "Support Engineer or API Support                                                                                                                                                                          0.014302\n",
       "  User Experience Designer, Back-End Web Developer, Data Engineer, Full-Stack Web Developer,   Product Manager,   Mobile Developer                                                                       0.014302\n",
       "  Product Manager, Full-Stack Web Developer,   Front-End Web Developer,   User Experience Designer                                                                                                       0.014302\n",
       "Game Developer, Information Security,   User Experience Designer,   Mobile Developer, Full-Stack Web Developer,   Front-End Web Developer, Back-End Web Developer                                        0.014302\n",
       "Game Developer, Full-Stack Web Developer,   Front-End Web Developer, Information Security, Back-End Web Developer                                                                                        0.014302\n",
       "Game Developer,   Data Scientist                                                                                                                                                                         0.014302\n",
       "  Mobile Developer, Full-Stack Web Developer, Information Security,   User Experience Designer,   Product Manager,   Data Scientist                                                                      0.014302\n",
       "Game Developer,   Front-End Web Developer, Data Engineer, Information Security,   Mobile Developer, Back-End Web Developer                                                                               0.014302\n",
       "  Quality Assurance Engineer, Back-End Web Developer, Full-Stack Web Developer,   Product Manager,   Data Scientist,   Front-End Web Developer, Information Security,   User Experience Designer         0.014302\n",
       "  DevOps / SysAdmin,   Front-End Web Developer, Back-End Web Developer, Information Security, Full-Stack Web Developer                                                                                   0.014302\n",
       "Full-Stack Web Developer,   Front-End Web Developer, Information Security,   Data Scientist, Back-End Web Developer, Data Engineer                                                                       0.014302\n",
       "Name: JobRoleInterest, Length: 3213, dtype: float64"
      ]
     },
     "execution_count": 14,
     "metadata": {},
     "output_type": "execute_result"
    }
   ],
   "source": [
    "count=df[\"JobRoleInterest\"].value_counts(normalize=True)*100\n",
    "count"
   ]
  },
  {
   "cell_type": "markdown",
   "metadata": {
    "collapsed": false
   },
   "source": [
    "Users were allowed to mark more than one interest in the table, so there is a large number of low percentage lists, of multiple interests, or no answer at all. We'll clean up those nulls and split the lists up for easier data management"
   ]
  },
  {
   "cell_type": "code",
   "execution_count": 15,
   "metadata": {
    "collapsed": false
   },
   "outputs": [
    {
     "data": {
      "text/plain": [
       "1     31.650458\n",
       "2     10.883867\n",
       "3     15.889588\n",
       "4     15.217391\n",
       "5     12.042334\n",
       "6      6.721968\n",
       "7      3.861556\n",
       "8      1.759153\n",
       "9      0.986842\n",
       "10     0.471968\n",
       "11     0.185927\n",
       "12     0.300343\n",
       "13     0.028604\n",
       "Name: JobRoleInterest, dtype: float64"
      ]
     },
     "execution_count": 15,
     "metadata": {},
     "output_type": "execute_result"
    }
   ],
   "source": [
    "\n",
    "#Remove Nulls\n",
    "no_nulls = df['JobRoleInterest'].dropna()\n",
    "#split lists\n",
    "split_list = no_nulls.str.split(',')\n",
    "\n",
    "# Frequency table ofhow many options a user picked\n",
    "options = split_list.apply(lambda x: len(x)) # x is a list of job options\n",
    "options.value_counts(normalize = True).sort_index() * 100"
   ]
  },
  {
   "cell_type": "markdown",
   "metadata": {},
   "source": [
    "31% of our surveyed data picked only one option, which suggests the majority(69%), picked more than one option as their interest. The Elearning platform will include many disciplines of coding, so this is fine!"
   ]
  },
  {
   "cell_type": "code",
   "execution_count": 16,
   "metadata": {
    "collapsed": false
   },
   "outputs": [
    {
     "name": "stdout",
     "output_type": "stream",
     "text": [
      "True     86.241419\n",
      "False    13.758581\n",
      "Name: JobRoleInterest, dtype: float64\n"
     ]
    }
   ],
   "source": [
    "# Frequency table counting users interested in a category containing either \"web\", or \"mobile\" development\n",
    "web_or_mobile = no_nulls.str.contains(\n",
    "    'Web Developer|Mobile Developer') # returns an array of booleans\n",
    "freq_table = web_or_mobile.value_counts(normalize = True) * 100\n",
    "print(freq_table)"
   ]
  },
  {
   "cell_type": "markdown",
   "metadata": {},
   "source": [
    "86% of our users are interested in these disciplines! This is promising for the analysis."
   ]
  },
  {
   "cell_type": "code",
   "execution_count": 17,
   "metadata": {
    "collapsed": false
   },
   "outputs": [
    {
     "data": {
      "text/plain": [
       "<matplotlib.text.Text at 0x7f1aef5052b0>"
      ]
     },
     "execution_count": 17,
     "metadata": {},
     "output_type": "execute_result"
    },
    {
     "data": {
      "image/png": "[encoded data removed]",
      "text/plain": [
       "<matplotlib.figure.Figure at 0x7f1af54f0358>"
      ]
     },
     "metadata": {},
     "output_type": "display_data"
    }
   ],
   "source": [
    "freq_table.plot.bar()\n",
    "plt.xlabel(\"Interested in Web and/or Mobile\")\n",
    "plt.ylabel(\"Percentage\")\n",
    "plt.title(\"User Responses\")"
   ]
  },
  {
   "cell_type": "markdown",
   "metadata": {},
   "source": [
    "Next, we'll clean out the dataframe of NA's in this column, and look at the locations of the survey responses, to determine promising markets"
   ]
  },
  {
   "cell_type": "code",
   "execution_count": 18,
   "metadata": {
    "collapsed": false
   },
   "outputs": [
    {
     "data": {
      "text/plain": [
       "United States of America    45.700497\n",
       "India                        7.721556\n",
       "United Kingdom               4.606610\n",
       "Name: CountryLive, dtype: float64"
      ]
     },
     "execution_count": 18,
     "metadata": {},
     "output_type": "execute_result"
    }
   ],
   "source": [
    "#dropping NA's from the dataframe\n",
    "df=df.dropna(subset=[\"JobRoleInterest\"])\n",
    "countries=df.CountryLive.value_counts(normalize=True)*100\n",
    "countries[:3]"
   ]
  },
  {
   "cell_type": "markdown",
   "metadata": {},
   "source": [
    "The United States is our largest single market by far, with 45% of our total responses, followed by India, at 7-8%, and the UK, with 4-5%. This suggests it would be a good starting point to market our content in English."
   ]
  },
  {
   "cell_type": "code",
   "execution_count": 31,
   "metadata": {
    "collapsed": false
   },
   "outputs": [
    {
     "data": {
      "text/plain": [
       "0"
      ]
     },
     "execution_count": 31,
     "metadata": {},
     "output_type": "execute_result"
    }
   ],
   "source": [
    "df[\"MonthsProgramming\"].replace(0,1, inplace=True)\n",
    "df[\"MonthlySpend\"]=df[\"MoneyForLearning\"]/df[\"MonthsProgramming\"]\n",
    "df[df[\"MonthsProgramming\"]==0].count().sum()\n"
   ]
  },
  {
   "cell_type": "markdown",
   "metadata": {},
   "source": [
    "Next, we'll determine how much money a given person in our sample spends on learning per month, to see what a reasonable monthly fee might be"
   ]
  },
  {
   "cell_type": "code",
   "execution_count": 39,
   "metadata": {
    "collapsed": false
   },
   "outputs": [
    {
     "data": {
      "text/plain": [
       "CountryLive\n",
       "United States of America    236.546913\n",
       "India                       136.874737\n",
       "United Kingdom               46.878633\n",
       "Canada                      115.434876\n",
       "Name: MonthlySpend, dtype: float64"
      ]
     },
     "execution_count": 39,
     "metadata": {},
     "output_type": "execute_result"
    }
   ],
   "source": [
    "countries = df.groupby('CountryLive').mean()\n",
    "countries['MonthlySpend'][['United States of America',\n",
    "                            'India', 'United Kingdom',\n",
    "                            'Canada']]\n"
   ]
  },
  {
   "cell_type": "markdown",
   "metadata": {
    "collapsed": false
   },
   "source": [
    "Looking at our data, it looks like the mean user is spending a lot more than our original $50 price point!  But these could be outliers"
   ]
  },
  {
   "cell_type": "code",
   "execution_count": 40,
   "metadata": {
    "collapsed": false
   },
   "outputs": [
    {
     "data": {
      "text/plain": [
       "CountryLive\n",
       "United States of America    5.00\n",
       "India                       0.00\n",
       "United Kingdom              0.25\n",
       "Canada                      0.00\n",
       "Name: MonthlySpend, dtype: float64"
      ]
     },
     "execution_count": 40,
     "metadata": {},
     "output_type": "execute_result"
    }
   ],
   "source": [
    "countries = df.groupby('CountryLive').median()\n",
    "countries['MonthlySpend'][['United States of America',\n",
    "                            'India', 'United Kingdom',\n",
    "                            'Canada']]"
   ]
  },
  {
   "cell_type": "markdown",
   "metadata": {},
   "source": [
    "Utilzing the median, which is more robust to outliers (such as users who attended expensive coding bootcamps), we can see that $5 per month is more representative"
   ]
  }
 ],
 "metadata": {
  "kernelspec": {
   "display_name": "Python 3",
   "language": "python",
   "name": "python3"
  },
  "language_info": {
   "codemirror_mode": {
    "name": "ipython",
    "version": 3
   },
   "file_extension": ".py",
   "mimetype": "text/x-python",
   "name": "python",
   "nbconvert_exporter": "python",
   "pygments_lexer": "ipython3",
   "version": "3.4.3"
  }
 },
 "nbformat": 4,
 "nbformat_minor": 2
}
